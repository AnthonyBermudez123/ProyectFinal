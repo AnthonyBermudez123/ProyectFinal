USE [master]
GO

CREATE DATABASE [TerrorTikect]
 CONTAINMENT = NONE
 ON  PRIMARY 
( NAME = N'TerrorTikect', FILENAME = N'C:\Program Files\Microsoft SQL Server\MSSQL16.SQLEXPRESS\MSSQL\DATA\TerrorTikect.mdf' , SIZE = 8192KB , MAXSIZE = UNLIMITED, FILEGROWTH = 65536KB )
 LOG ON 
( NAME = N'TerrorTikect_log', FILENAME = N'C:\Program Files\Microsoft SQL Server\MSSQL16.SQLEXPRESS\MSSQL\DATA\TerrorTikect_log.ldf' , SIZE = 8192KB , MAXSIZE = 2048GB , FILEGROWTH = 65536KB )
 WITH CATALOG_COLLATION = DATABASE_DEFAULT, LEDGER = OFF
GO

USE [TerrorTikect]
GO

CREATE TABLE [dbo].[CategoriasEdad](
    [CategoriaID] [int] NOT NULL,
    [NombreCategoria] [varchar](50) NULL,
    PRIMARY KEY CLUSTERED 
    (
        [CategoriaID] ASC
    )WITH (PAD_INDEX = OFF, STATISTICS_NORECOMPUTE = OFF, IGNORE_DUP_KEY = OFF, ALLOW_ROW_LOCKS = ON, ALLOW_PAGE_LOCKS = ON, OPTIMIZE_FOR_SEQUENTIAL_KEY = OFF) ON [PRIMARY]
)
GO

CREATE TABLE [dbo].[Entradas](
    [EntradaID] [int] NOT NULL,
    [UsuarioID] [int] NULL,
    [CategoriaID] [int] NULL,
    [FechaCompra] [date] NULL,
    PRIMARY KEY CLUSTERED 
    (
        [EntradaID] ASC
    )WITH (PAD_INDEX = OFF, STATISTICS_NORECOMPUTE = OFF, IGNORE_DUP_KEY = OFF, ALLOW_ROW_LOCKS = ON, ALLOW_PAGE_LOCKS = ON, OPTIMIZE_FOR_SEQUENTIAL_KEY = OFF) ON [PRIMARY]
)
GO

CREATE TABLE [dbo].[Precios](
    [PrecioID] [int] NOT NULL,
    [CategoriaID] [int] NULL,
    [Precio] [decimal](10, 2) NULL,
    PRIMARY KEY CLUSTERED 
    (
        [PrecioID] ASC
    )WITH (PAD_INDEX = OFF, STATISTICS_NORECOMPUTE = OFF, IGNORE_DUP_KEY = OFF, ALLOW_ROW_LOCKS = ON, ALLOW_PAGE_LOCKS = ON, OPTIMIZE_FOR_SEQUENTIAL_KEY = OFF) ON [PRIMARY]
)
GO

CREATE TABLE [dbo].[FechasDisponibles](
    [FechaID] [int] IDENTITY(1,1) NOT NULL PRIMARY KEY,
    [Fecha] [date] NOT NULL
)

INSERT INTO [dbo].[FechasDisponibles] ([Fecha]) VALUES ('2023-10-15')
INSERT INTO [dbo].[FechasDisponibles] ([Fecha]) VALUES ('2023-10-16')
INSERT INTO [dbo].[FechasDisponibles] ([Fecha]) VALUES ('2023-10-22')



GO
